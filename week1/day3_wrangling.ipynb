{
 "cells": [
  {
   "cell_type": "markdown",
   "id": "2c4ff5b3",
   "metadata": {},
   "source": [
    "# Day 3: Pandas Data Wrangling - Hands On"
   ]
  },
  {
   "cell_type": "code",
   "execution_count": 5,
   "id": "ff958001",
   "metadata": {},
   "outputs": [
    {
     "name": "stdout",
     "output_type": "stream",
     "text": [
      "Raw:\n",
      "          date product  price  qty\n",
      "0  2023-01-01       A   10.0  1.0\n",
      "1  2023-01-02       A   10.0  2.0\n",
      "2  2023-01-03       B   20.0  1.0\n",
      "3  2023-01-03       B    NaN  3.0\n",
      "4        None       A   10.0  NaN\n"
     ]
    }
   ],
   "source": [
    "import numpy as np\n",
    "import pandas as pd\n",
    "import matplotlib.pyplot as plt\n",
    "\n",
    "# Messy sample data\n",
    "raw = pd.DataFrame({\n",
    "    \"date\": [\"2023-01-01\",\"2023-01-02\",\"2023-01-03\",\"2023-01-03\", None],\n",
    "    \"product\": [\"A\",\"A\",\"B\",\"B\",\"A\"],\n",
    "    \"price\": [10.0, 10.0, 20.0, np.nan, 10.0],\n",
    "    \"qty\": [1, 2, 1, 3, None]\n",
    "})\n",
    "print(\"Raw:\\n\", raw)"
   ]
  },
  {
   "cell_type": "code",
   "execution_count": 6,
   "id": "34cfe342",
   "metadata": {},
   "outputs": [],
   "source": [
    "# Clean\n",
    "df = raw.copy()"
   ]
  },
  {
   "cell_type": "code",
   "execution_count": 7,
   "id": "0c2c90d7",
   "metadata": {},
   "outputs": [],
   "source": [
    "df['date'] = pd.to_datetime(df['date'], errors='coerce')"
   ]
  },
  {
   "cell_type": "code",
   "execution_count": 8,
   "id": "cae9be17",
   "metadata": {
    "vscode": {
     "languageId": "markdown"
    }
   },
   "outputs": [],
   "source": [
    "df[\"qty\"] = df[\"qty\"].fillna(0)\n",
    "df[\"price\"] = df[\"price\"].fillna(df[\"price\"].median())\n"
   ]
  },
  {
   "cell_type": "code",
   "execution_count": 9,
   "id": "b2525069",
   "metadata": {
    "vscode": {
     "languageId": "markdown"
    }
   },
   "outputs": [],
   "source": [
    "# Features\n",
    "df[\"revenue\"] = df[\"price\"] * df[\"qty\"]\n"
   ]
  },
  {
   "cell_type": "code",
   "execution_count": 10,
   "id": "b15a2f0e",
   "metadata": {
    "vscode": {
     "languageId": "markdown"
    }
   },
   "outputs": [
    {
     "name": "stdout",
     "output_type": "stream",
     "text": [
      "\n",
      "Cleaned:\n",
      "         date product  price  qty  revenue\n",
      "0 2023-01-01       A   10.0  1.0     10.0\n",
      "1 2023-01-02       A   10.0  2.0     20.0\n",
      "2 2023-01-03       B   20.0  1.0     20.0\n",
      "3 2023-01-03       B   10.0  3.0     30.0\n"
     ]
    }
   ],
   "source": [
    "# Summaries\n",
    "valid = df[df[\"date\"].notna()].sort_values([\"date\",\"product\"])\n",
    "print(\"\\nCleaned:\\n\", valid)"
   ]
  },
  {
   "cell_type": "code",
   "execution_count": 11,
   "id": "cfe401ab",
   "metadata": {
    "vscode": {
     "languageId": "markdown"
    }
   },
   "outputs": [
    {
     "name": "stdout",
     "output_type": "stream",
     "text": [
      "\n",
      "Revenue by product:\n",
      "           sum  mean  count\n",
      "product                   \n",
      "A        30.0  15.0      2\n",
      "B        50.0  25.0      2\n"
     ]
    }
   ],
   "source": [
    "by_product = valid.groupby(\"product\")[\"revenue\"].agg([\"sum\",\"mean\",\"count\"])\n",
    "print(\"\\nRevenue by product:\\n\", by_product)"
   ]
  },
  {
   "cell_type": "code",
   "execution_count": 12,
   "id": "7cfb54d8",
   "metadata": {
    "vscode": {
     "languageId": "markdown"
    }
   },
   "outputs": [
    {
     "name": "stdout",
     "output_type": "stream",
     "text": [
      "\n",
      "Pivot table:\n",
      " product        A     B\n",
      "date                  \n",
      "2023-01-01  10.0   0.0\n",
      "2023-01-02  20.0   0.0\n",
      "2023-01-03   0.0  50.0\n"
     ]
    }
   ],
   "source": [
    "# Pivot + plot\n",
    "pivot = pd.pivot_table(valid, values=\"revenue\", index=\"date\", columns=\"product\",\n",
    "                       aggfunc=\"sum\", fill_value=0)\n",
    "print(\"\\nPivot table:\\n\", pivot)"
   ]
  },
  {
   "cell_type": "code",
   "execution_count": 13,
   "id": "8019dc50",
   "metadata": {
    "vscode": {
     "languageId": "markdown"
    }
   },
   "outputs": [
    {
     "data": {
      "image/png": "[encoded data removed]",
      "text/plain": [
       "<Figure size 640x480 with 1 Axes>"
      ]
     },
     "metadata": {},
     "output_type": "display_data"
    }
   ],
   "source": [
    "pivot.plot(kind=\"bar\", title=\"Daily Revenue by Product\")\n",
    "plt.tight_layout()\n",
    "plt.show()"
   ]
  },
  {
   "cell_type": "code",
   "execution_count": 14,
   "id": "fa5ead18",
   "metadata": {
    "vscode": {
     "languageId": "markdown"
    }
   },
   "outputs": [
    {
     "name": "stdout",
     "output_type": "stream",
     "text": [
      "Mean: 20.0 Std: 7.0710678118654755\n"
     ]
    }
   ],
   "source": [
    "# NumPy quick stats\n",
    "arr = valid[\"revenue\"].to_numpy()\n",
    "print(\"Mean:\", arr.mean(), \"Std:\", arr.std())"
   ]
  }
 ],
 "metadata": {
  "kernelspec": {
   "display_name": "base",
   "language": "python",
   "name": "python3"
  },
  "language_info": {
   "codemirror_mode": {
    "name": "ipython",
    "version": 3
   },
   "file_extension": ".py",
   "mimetype": "text/x-python",
   "name": "python",
   "nbconvert_exporter": "python",
   "pygments_lexer": "ipython3",
   "version": "3.13.5"
  }
 },
 "nbformat": 4,
 "nbformat_minor": 5
}
