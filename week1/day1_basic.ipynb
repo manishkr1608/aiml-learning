{
 "cells": [
  {
   "cell_type": "markdown",
   "id": "9cb72003",
   "metadata": {},
   "source": [
    "# Day 1 - Check Set Up"
   ]
  },
  {
   "cell_type": "code",
   "execution_count": 7,
   "id": "f2f8c1e6-2f24-4716-9943-61e054e15fea",
   "metadata": {},
   "outputs": [],
   "source": [
    "import numpy as np\n",
    "import sys"
   ]
  },
  {
   "cell_type": "code",
   "execution_count": 8,
   "id": "4d401a0b-9400-45b4-91fc-52b271b0f0a1",
   "metadata": {},
   "outputs": [
    {
     "data": {
      "text/plain": [
       "'3.10.18 (main, Jun  5 2025, 08:13:51) [Clang 14.0.6 ]'"
      ]
     },
     "execution_count": 8,
     "metadata": {},
     "output_type": "execute_result"
    }
   ],
   "source": [
    "python_version = sys.version\n",
    "python_version"
   ]
  }
 ],
 "metadata": {
  "kernelspec": {
   "display_name": "ml",
   "language": "python",
   "name": "python3"
  },
  "language_info": {
   "codemirror_mode": {
    "name": "ipython",
    "version": 3
   },
   "file_extension": ".py",
   "mimetype": "text/x-python",
   "name": "python",
   "nbconvert_exporter": "python",
   "pygments_lexer": "ipython3",
   "version": "3.10.18"
  }
 },
 "nbformat": 4,
 "nbformat_minor": 5
}
