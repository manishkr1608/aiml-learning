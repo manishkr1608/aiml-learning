{
 "cells": [
  {
   "cell_type": "code",
   "execution_count": 1,
   "id": "e5a217ee",
   "metadata": {},
   "outputs": [],
   "source": [
    "import torch\n",
    "import torch.nn as nn\n"
   ]
  },
  {
   "cell_type": "code",
   "execution_count": 2,
   "id": "dce59133",
   "metadata": {},
   "outputs": [],
   "source": [
    "class Generator(nn.Module):\n",
    "    def __init__(self, z_dim=32):\n",
    "        super().__init__()\n",
    "        self.net = nn.Sequential(\n",
    "            nn.Linear(z_dim, 64),\n",
    "            nn.ReLU(),\n",
    "            nn.Linear(64, 16),\n",
    "            nn.Tanh()\n",
    "        )\n",
    "    def forward(self, z): return self.net(z)\n"
   ]
  },
  {
   "cell_type": "code",
   "execution_count": 3,
   "id": "1e19e8aa",
   "metadata": {},
   "outputs": [],
   "source": [
    "class Discriminator(nn.Module):\n",
    "    def __init__(self):\n",
    "        super().__init__()\n",
    "        self.net = nn.Sequential(\n",
    "            nn.Linear(16, 64),\n",
    "            nn.LeakyReLU(0.2),\n",
    "            nn.Linear(64, 1),\n",
    "            nn.Sigmoid()\n",
    "        )\n",
    "    def forward(self, x): return self.net(x)\n"
   ]
  },
  {
   "cell_type": "code",
   "execution_count": 4,
   "id": "0bb0af09",
   "metadata": {},
   "outputs": [],
   "source": [
    "G, D = Generator(), Discriminator()\n",
    "z = torch.randn(4, 32)\n",
    "fake_data = G(z)\n",
    "decision = D(fake_data)\n"
   ]
  },
  {
   "cell_type": "code",
   "execution_count": 5,
   "id": "6471f5a2",
   "metadata": {},
   "outputs": [
    {
     "name": "stdout",
     "output_type": "stream",
     "text": [
      "Fake data sample: tensor([-0.2286, -0.0644,  0.1614, -0.4253,  0.1001, -0.4003, -0.3782, -0.1688,\n",
      "        -0.0111, -0.0988,  0.0406,  0.5793, -0.3691, -0.1684, -0.1579,  0.2007],\n",
      "       grad_fn=<SelectBackward0>)\n",
      "Discriminator output: tensor([[0.4555],\n",
      "        [0.4790],\n",
      "        [0.4551],\n",
      "        [0.4645]], grad_fn=<SigmoidBackward0>)\n"
     ]
    }
   ],
   "source": [
    "print(\"Fake data sample:\", fake_data[0])\n",
    "print(\"Discriminator output:\", decision)\n"
   ]
  }
 ],
 "metadata": {
  "kernelspec": {
   "display_name": "mloldlib",
   "language": "python",
   "name": "python3"
  },
  "language_info": {
   "codemirror_mode": {
    "name": "ipython",
    "version": 3
   },
   "file_extension": ".py",
   "mimetype": "text/x-python",
   "name": "python",
   "nbconvert_exporter": "python",
   "pygments_lexer": "ipython3",
   "version": "3.10.18"
  }
 },
 "nbformat": 4,
 "nbformat_minor": 5
}
