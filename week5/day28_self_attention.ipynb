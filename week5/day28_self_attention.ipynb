{
 "cells": [
  {
   "cell_type": "code",
   "execution_count": 1,
   "id": "1b4f87b9",
   "metadata": {},
   "outputs": [],
   "source": [
    "import torch\n",
    "import torch.nn as nn\n",
    "import torch.nn.functional as F"
   ]
  },
  {
   "cell_type": "code",
   "execution_count": 2,
   "id": "da8cba40",
   "metadata": {},
   "outputs": [],
   "source": [
    "class SelfAttention(nn.Module):\n",
    "    def __init__(self, embed_dim):\n",
    "        super(SelfAttention, self).__init__()\n",
    "        self.query = nn.Linear(embed_dim, embed_dim)\n",
    "        self.key   = nn.Linear(embed_dim, embed_dim)\n",
    "        self.value = nn.Linear(embed_dim, embed_dim)\n",
    "        self.scale = embed_dim ** 0.5\n",
    "\n",
    "    def forward(self, x):\n",
    "        # x: (batch, seq_len, embed_dim)\n",
    "        Q, K, V = self.query(x), self.key(x), self.value(x)\n",
    "        scores = torch.matmul(Q, K.transpose(-2, -1)) / self.scale\n",
    "        weights = F.softmax(scores, dim=-1)\n",
    "        out = torch.matmul(weights, V)\n",
    "        return out, weights"
   ]
  },
  {
   "cell_type": "code",
   "execution_count": 3,
   "id": "6257ed40",
   "metadata": {},
   "outputs": [
    {
     "name": "stdout",
     "output_type": "stream",
     "text": [
      "Output shape: torch.Size([2, 4, 8])\n",
      "Attention weights shape: torch.Size([2, 4, 4])\n"
     ]
    }
   ],
   "source": [
    "# Example\n",
    "batch, seq_len, embed_dim = 2, 4, 8\n",
    "x = torch.randn(batch, seq_len, embed_dim)\n",
    "sa = SelfAttention(embed_dim)\n",
    "out, attn = sa(x)\n",
    "print(\"Output shape:\", out.shape)\n",
    "print(\"Attention weights shape:\", attn.shape)"
   ]
  }
 ],
 "metadata": {
  "kernelspec": {
   "display_name": "mloldlib",
   "language": "python",
   "name": "python3"
  },
  "language_info": {
   "codemirror_mode": {
    "name": "ipython",
    "version": 3
   },
   "file_extension": ".py",
   "mimetype": "text/x-python",
   "name": "python",
   "nbconvert_exporter": "python",
   "pygments_lexer": "ipython3",
   "version": "3.10.18"
  }
 },
 "nbformat": 4,
 "nbformat_minor": 5
}
