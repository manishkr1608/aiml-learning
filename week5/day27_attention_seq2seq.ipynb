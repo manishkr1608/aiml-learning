{
 "cells": [
  {
   "cell_type": "code",
   "execution_count": 1,
   "id": "250fa10c",
   "metadata": {},
   "outputs": [],
   "source": [
    "import torch\n",
    "import torch.nn as nn\n"
   ]
  },
  {
   "cell_type": "code",
   "execution_count": 2,
   "id": "fd13e36e",
   "metadata": {},
   "outputs": [],
   "source": [
    "# Simplified Attention example\n",
    "class Attention(nn.Module):\n",
    "    def __init__(self, hidden_dim):\n",
    "        super(Attention, self).__init__()\n",
    "        self.attn = nn.Linear(hidden_dim * 2, hidden_dim)\n",
    "        self.v = nn.Parameter(torch.rand(hidden_dim))\n",
    "\n",
    "    def forward(self, hidden, encoder_outputs):\n",
    "        # hidden: (batch, hidden_dim)\n",
    "        # encoder_outputs: (batch, seq_len, hidden_dim)\n",
    "        seq_len = encoder_outputs.size(1)\n",
    "        hidden = hidden.unsqueeze(1).repeat(1, seq_len, 1)\n",
    "        energy = torch.tanh(self.attn(torch.cat((hidden, encoder_outputs), dim=2)))\n",
    "        attention = torch.sum(self.v * energy, dim=2)\n",
    "        return torch.softmax(attention, dim=1)\n"
   ]
  },
  {
   "cell_type": "code",
   "execution_count": 3,
   "id": "3f03ab0f",
   "metadata": {},
   "outputs": [],
   "source": [
    "# Example run\n",
    "batch_size, seq_len, hidden_dim = 2, 5, 8\n",
    "encoder_outputs = torch.randn(batch_size, seq_len, hidden_dim)\n",
    "hidden = torch.randn(batch_size, hidden_dim)\n"
   ]
  },
  {
   "cell_type": "code",
   "execution_count": 4,
   "id": "581d5634",
   "metadata": {},
   "outputs": [
    {
     "name": "stdout",
     "output_type": "stream",
     "text": [
      "Attention Weights: tensor([[0.1273, 0.1194, 0.3624, 0.2655, 0.1255],\n",
      "        [0.1056, 0.2921, 0.2828, 0.1090, 0.2105]], grad_fn=<SoftmaxBackward0>)\n"
     ]
    }
   ],
   "source": [
    "attn = Attention(hidden_dim)\n",
    "weights = attn(hidden, encoder_outputs)\n",
    "print(\"Attention Weights:\", weights)"
   ]
  }
 ],
 "metadata": {
  "kernelspec": {
   "display_name": "mloldlib",
   "language": "python",
   "name": "python3"
  },
  "language_info": {
   "codemirror_mode": {
    "name": "ipython",
    "version": 3
   },
   "file_extension": ".py",
   "mimetype": "text/x-python",
   "name": "python",
   "nbconvert_exporter": "python",
   "pygments_lexer": "ipython3",
   "version": "3.10.18"
  }
 },
 "nbformat": 4,
 "nbformat_minor": 5
}
