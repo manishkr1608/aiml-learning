{
 "cells": [
  {
   "cell_type": "code",
   "execution_count": 1,
   "id": "ec069cec",
   "metadata": {},
   "outputs": [],
   "source": [
    "import torch\n",
    "import torch.nn as nn\n",
    "import torch.optim as optim\n"
   ]
  },
  {
   "cell_type": "code",
   "execution_count": 2,
   "id": "88a5c20f",
   "metadata": {},
   "outputs": [],
   "source": [
    "class Generator(nn.Module):\n",
    "    def __init__(self, noise_dim=64, out_dim=784):\n",
    "        super().__init__()\n",
    "        self.net = nn.Sequential(\n",
    "            nn.Linear(noise_dim, 128),\n",
    "            nn.ReLU(),\n",
    "            nn.Linear(128, out_dim),\n",
    "            nn.Tanh()\n",
    "        )\n",
    "    def forward(self, z): return self.net(z)\n"
   ]
  },
  {
   "cell_type": "code",
   "execution_count": 3,
   "id": "4538ab3a",
   "metadata": {},
   "outputs": [],
   "source": [
    "class Discriminator(nn.Module):\n",
    "    def __init__(self, in_dim=784):\n",
    "        super().__init__()\n",
    "        self.net = nn.Sequential(\n",
    "            nn.Linear(in_dim, 128),\n",
    "            nn.LeakyReLU(0.2),\n",
    "            nn.Linear(128, 1),\n",
    "            nn.Sigmoid()\n",
    "        )\n",
    "    def forward(self, x): return self.net(x)\n"
   ]
  },
  {
   "cell_type": "code",
   "execution_count": 4,
   "id": "67c03ccb",
   "metadata": {},
   "outputs": [
    {
     "name": "stderr",
     "output_type": "stream",
     "text": [
      "/opt/miniconda3/envs/mloldlib/lib/python3.10/site-packages/tqdm/auto.py:21: TqdmWarning: IProgress not found. Please update jupyter and ipywidgets. See https://ipywidgets.readthedocs.io/en/stable/user_install.html\n",
      "  from .autonotebook import tqdm as notebook_tqdm\n"
     ]
    }
   ],
   "source": [
    "noise_dim = 64\n",
    "G, D = Generator(noise_dim), Discriminator()\n",
    "loss_fn = nn.BCELoss()\n",
    "g_opt, d_opt = optim.Adam(G.parameters(), lr=0.001), optim.Adam(D.parameters(), lr=0.001)\n"
   ]
  },
  {
   "cell_type": "code",
   "execution_count": 6,
   "id": "df994191",
   "metadata": {},
   "outputs": [
    {
     "name": "stdout",
     "output_type": "stream",
     "text": [
      "One epoch GAN training completed.\n"
     ]
    }
   ],
   "source": [
    "# Dummy training loop\n",
    "for epoch in range(1):\n",
    "    z = torch.randn(16, noise_dim)\n",
    "    fake = G(z)\n",
    "    real = torch.randn(16, 784)\n",
    "\n",
    "    d_loss_real = loss_fn(D(real), torch.ones(16,1))\n",
    "    d_loss_fake = loss_fn(D(fake.detach()), torch.zeros(16,1))\n",
    "    d_loss = (d_loss_real + d_loss_fake)/2\n",
    "\n",
    "    D.zero_grad(); d_loss.backward(); d_opt.step()\n",
    "\n",
    "    g_loss = loss_fn(D(fake), torch.ones(16,1))\n",
    "    G.zero_grad(); g_loss.backward(); g_opt.step()\n",
    "\n",
    "print(\"One epoch GAN training completed.\")"
   ]
  }
 ],
 "metadata": {
  "kernelspec": {
   "display_name": "mloldlib",
   "language": "python",
   "name": "python3"
  },
  "language_info": {
   "codemirror_mode": {
    "name": "ipython",
    "version": 3
   },
   "file_extension": ".py",
   "mimetype": "text/x-python",
   "name": "python",
   "nbconvert_exporter": "python",
   "pygments_lexer": "ipython3",
   "version": "3.10.18"
  }
 },
 "nbformat": 4,
 "nbformat_minor": 5
}
