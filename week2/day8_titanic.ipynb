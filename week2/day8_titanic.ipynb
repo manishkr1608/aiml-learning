{
 "cells": [
  {
   "cell_type": "markdown",
   "id": "4eb605d9",
   "metadata": {},
   "source": [
    "# Day 8 – Titanic Logistic Regression\n",
    "Objective: Predict survival using Logistic Regression.  \n",
    "Steps: Load → preprocess → split → train → evaluate.  \n"
   ]
  },
  {
   "cell_type": "code",
   "execution_count": 1,
   "id": "e2caffbf",
   "metadata": {},
   "outputs": [],
   "source": [
    "import seaborn as sns\n",
    "import pandas as pd\n",
    "from sklearn.model_selection import train_test_split\n",
    "from sklearn.linear_model import LogisticRegression\n",
    "from sklearn.metrics import accuracy_score, classification_report\n"
   ]
  },
  {
   "cell_type": "code",
   "execution_count": 2,
   "id": "0cdd0100",
   "metadata": {},
   "outputs": [
    {
     "name": "stdout",
     "output_type": "stream",
     "text": [
      "   survived  pclass     sex   age  sibsp  parch     fare embarked  class  \\\n",
      "0         0       3    male  22.0      1      0   7.2500        S  Third   \n",
      "1         1       1  female  38.0      1      0  71.2833        C  First   \n",
      "2         1       3  female  26.0      0      0   7.9250        S  Third   \n",
      "3         1       1  female  35.0      1      0  53.1000        S  First   \n",
      "4         0       3    male  35.0      0      0   8.0500        S  Third   \n",
      "\n",
      "     who  adult_male deck  embark_town alive  alone  \n",
      "0    man        True  NaN  Southampton    no  False  \n",
      "1  woman       False    C    Cherbourg   yes  False  \n",
      "2  woman       False  NaN  Southampton   yes   True  \n",
      "3  woman       False    C  Southampton   yes  False  \n",
      "4    man        True  NaN  Southampton    no   True  \n"
     ]
    }
   ],
   "source": [
    "# Load Titanic dataset\n",
    "titanic = sns.load_dataset(\"titanic\")\n",
    "print(titanic.head())"
   ]
  },
  {
   "cell_type": "code",
   "execution_count": 3,
   "id": "7e61450b",
   "metadata": {},
   "outputs": [],
   "source": [
    "# Select features\n",
    "df = titanic[[\"survived\",\"pclass\",\"sex\",\"age\",\"fare\"]].dropna()\n",
    "df[\"sex\"] = df[\"sex\"].map({\"male\":0, \"female\":1})\n"
   ]
  },
  {
   "cell_type": "code",
   "execution_count": 4,
   "id": "ac83e6b0",
   "metadata": {},
   "outputs": [],
   "source": [
    "X = df[[\"pclass\",\"sex\",\"age\",\"fare\"]]\n",
    "y = df[\"survived\"]\n"
   ]
  },
  {
   "cell_type": "code",
   "execution_count": 5,
   "id": "c33458ca",
   "metadata": {},
   "outputs": [],
   "source": [
    "# Train/test split\n",
    "X_train, X_test, y_train, y_test = train_test_split(X, y, test_size=0.25, random_state=42)\n"
   ]
  },
  {
   "cell_type": "code",
   "execution_count": 6,
   "id": "dab372ee",
   "metadata": {},
   "outputs": [],
   "source": [
    "# Model\n",
    "model = LogisticRegression(max_iter=1000)\n",
    "model.fit(X_train, y_train)\n",
    "y_pred = model.predict(X_test)\n"
   ]
  },
  {
   "cell_type": "code",
   "execution_count": 7,
   "id": "f520afc3",
   "metadata": {},
   "outputs": [
    {
     "name": "stdout",
     "output_type": "stream",
     "text": [
      "Accuracy: 0.770949720670391\n",
      "Report:\n",
      "               precision    recall  f1-score   support\n",
      "\n",
      "           0       0.81      0.81      0.81       107\n",
      "           1       0.72      0.71      0.71        72\n",
      "\n",
      "    accuracy                           0.77       179\n",
      "   macro avg       0.76      0.76      0.76       179\n",
      "weighted avg       0.77      0.77      0.77       179\n",
      "\n"
     ]
    }
   ],
   "source": [
    "\n",
    "print(\"Accuracy:\", accuracy_score(y_test, y_pred))\n",
    "print(\"Report:\\n\", classification_report(y_test, y_pred))"
   ]
  }
 ],
 "metadata": {
  "kernelspec": {
   "display_name": "ml",
   "language": "python",
   "name": "python3"
  },
  "language_info": {
   "codemirror_mode": {
    "name": "ipython",
    "version": 3
   },
   "file_extension": ".py",
   "mimetype": "text/x-python",
   "name": "python",
   "nbconvert_exporter": "python",
   "pygments_lexer": "ipython3",
   "version": "3.10.18"
  }
 },
 "nbformat": 4,
 "nbformat_minor": 5
}
