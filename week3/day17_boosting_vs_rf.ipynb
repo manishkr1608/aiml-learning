{
 "cells": [
  {
   "cell_type": "code",
   "execution_count": 1,
   "id": "450b1364",
   "metadata": {},
   "outputs": [],
   "source": [
    "import pandas as pd\n",
    "from sklearn.datasets import load_diabetes\n",
    "from sklearn.model_selection import train_test_split\n",
    "from sklearn.ensemble import RandomForestRegressor, GradientBoostingRegressor\n",
    "from sklearn.metrics import mean_squared_error, r2_score\n"
   ]
  },
  {
   "cell_type": "code",
   "execution_count": 2,
   "id": "4110c956",
   "metadata": {},
   "outputs": [],
   "source": [
    "# Load dataset\n",
    "diabetes = load_diabetes(as_frame=True)\n",
    "X, y = diabetes.data, diabetes.target\n"
   ]
  },
  {
   "cell_type": "code",
   "execution_count": 3,
   "id": "1e127d4c",
   "metadata": {},
   "outputs": [],
   "source": [
    "# Train/test split\n",
    "X_train, X_test, y_train, y_test = train_test_split(X, y, test_size=0.25, random_state=42)\n"
   ]
  },
  {
   "cell_type": "code",
   "execution_count": 4,
   "id": "27dd58e6",
   "metadata": {},
   "outputs": [],
   "source": [
    "# Random Forest\n",
    "rf = RandomForestRegressor(n_estimators=200, random_state=42)\n",
    "rf.fit(X_train, y_train)\n",
    "rf_preds = rf.predict(X_test)\n"
   ]
  },
  {
   "cell_type": "code",
   "execution_count": 5,
   "id": "f721eb2f",
   "metadata": {},
   "outputs": [],
   "source": [
    "# Gradient Boosting\n",
    "gbr = GradientBoostingRegressor(n_estimators=200, learning_rate=0.05, max_depth=3, random_state=42)\n",
    "gbr.fit(X_train, y_train)\n",
    "gbr_preds = gbr.predict(X_test)\n"
   ]
  },
  {
   "cell_type": "code",
   "execution_count": 6,
   "id": "dffdd417",
   "metadata": {},
   "outputs": [
    {
     "name": "stdout",
     "output_type": "stream",
     "text": [
      "Random Forest R2: 0.4632724595412875\n",
      "Gradient Boosting R2: 0.4366883709373859\n",
      "Random Forest MSE: 2967.9368047297294\n",
      "Gradient Boosting MSE: 3114.9385682693537\n"
     ]
    }
   ],
   "source": [
    "# Metrics\n",
    "print(\"Random Forest R2:\", r2_score(y_test, rf_preds))\n",
    "print(\"Gradient Boosting R2:\", r2_score(y_test, gbr_preds))\n",
    "print(\"Random Forest MSE:\", mean_squared_error(y_test, rf_preds))\n",
    "print(\"Gradient Boosting MSE:\", mean_squared_error(y_test, gbr_preds))"
   ]
  }
 ],
 "metadata": {
  "kernelspec": {
   "display_name": "ml",
   "language": "python",
   "name": "python3"
  },
  "language_info": {
   "codemirror_mode": {
    "name": "ipython",
    "version": 3
   },
   "file_extension": ".py",
   "mimetype": "text/x-python",
   "name": "python",
   "nbconvert_exporter": "python",
   "pygments_lexer": "ipython3",
   "version": "3.10.18"
  }
 },
 "nbformat": 4,
 "nbformat_minor": 5
}
