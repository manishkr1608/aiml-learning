{
 "cells": [
  {
   "cell_type": "code",
   "execution_count": 1,
   "id": "b8443380",
   "metadata": {},
   "outputs": [],
   "source": [
    "import pandas as pd\n",
    "from sklearn.datasets import load_diabetes\n",
    "from sklearn.model_selection import train_test_split\n",
    "from sklearn.ensemble import RandomForestRegressor, GradientBoostingRegressor\n",
    "from sklearn.svm import SVR\n",
    "from sklearn.metrics import mean_squared_error, r2_score\n"
   ]
  },
  {
   "cell_type": "code",
   "execution_count": 2,
   "id": "4d6f7988",
   "metadata": {},
   "outputs": [],
   "source": [
    "# Load dataset\n",
    "diabetes = load_diabetes(as_frame=True)\n",
    "X, y = diabetes.data, diabetes.target\n",
    "X_train, X_test, y_train, y_test = train_test_split(X, y, test_size=0.25, random_state=42)\n"
   ]
  },
  {
   "cell_type": "code",
   "execution_count": 3,
   "id": "8e1bf3e3",
   "metadata": {},
   "outputs": [],
   "source": [
    "# Models\n",
    "models = {\n",
    "    \"Random Forest\": RandomForestRegressor(n_estimators=200, random_state=42),\n",
    "    \"Gradient Boosting\": GradientBoostingRegressor(n_estimators=200, learning_rate=0.05, max_depth=3, random_state=42),\n",
    "    \"SVM\": SVR(kernel=\"rbf\", C=100, gamma=0.1, epsilon=0.1)\n",
    "}"
   ]
  },
  {
   "cell_type": "code",
   "execution_count": 4,
   "id": "de256387",
   "metadata": {},
   "outputs": [],
   "source": [
    "results = []\n",
    "for name, model in models.items():\n",
    "    model.fit(X_train, y_train)\n",
    "    preds = model.predict(X_test)\n",
    "    results.append({\n",
    "        \"Model\": name,\n",
    "        \"R2\": r2_score(y_test, preds),\n",
    "        \"MSE\": mean_squared_error(y_test, preds)\n",
    "    })\n"
   ]
  },
  {
   "cell_type": "code",
   "execution_count": 5,
   "id": "11a49797",
   "metadata": {},
   "outputs": [
    {
     "name": "stdout",
     "output_type": "stream",
     "text": [
      "               Model        R2          MSE\n",
      "0      Random Forest  0.463272  2967.936805\n",
      "1  Gradient Boosting  0.436688  3114.938568\n",
      "2                SVM  0.280245  3980.024242\n"
     ]
    }
   ],
   "source": [
    "df_results = pd.DataFrame(results)\n",
    "print(df_results)"
   ]
  }
 ],
 "metadata": {
  "kernelspec": {
   "display_name": "ml",
   "language": "python",
   "name": "python3"
  },
  "language_info": {
   "codemirror_mode": {
    "name": "ipython",
    "version": 3
   },
   "file_extension": ".py",
   "mimetype": "text/x-python",
   "name": "python",
   "nbconvert_exporter": "python",
   "pygments_lexer": "ipython3",
   "version": "3.10.18"
  }
 },
 "nbformat": 4,
 "nbformat_minor": 5
}
